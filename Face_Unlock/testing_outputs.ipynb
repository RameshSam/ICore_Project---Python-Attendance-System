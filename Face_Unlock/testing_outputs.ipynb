{
 "cells": [
  {
   "cell_type": "code",
   "execution_count": 2,
   "id": "fd982ca6",
   "metadata": {},
   "outputs": [
    {
     "name": "stdout",
     "output_type": "stream",
     "text": [
      " Test Failed ! (Import Error) \n"
     ]
    }
   ],
   "source": [
    "try:\n",
    "    import numpy\n",
    "    import pickle\n",
    "    import face_recognition\n",
    "    import cv2\n",
    "    import cvzone\n",
    "#     import FullBody_DetectionModule as f\n",
    "    import os\n",
    "    import time\n",
    "    import firebase_admin\n",
    "    from firebase_admin import credentials\n",
    "    from firebase_admin import db\n",
    "    from firebase_admin import storage\n",
    "    from datetime import datetime\n",
    "    import warnings\n",
    "#     import checkinternet as ch\n",
    "    \n",
    "    Certifiacte_Key = credentials.Certificate(\"servicekey.json\")\n",
    "    firebase_admin.initialize_app(Certifiacte_Key, {\n",
    "    \"databaseURL\" : \"https://icore-attendence-system-default-rtdb.firebaseio.com/\",\n",
    "    'storageBucket': \"icore-attendence-system.appspot.com\"\n",
    "    })\n",
    "    if not ch.is_connect():\n",
    "        print(\" Please Connect Internet , INTERNET ON \")\n",
    "    \n",
    "    \n",
    "except ImportError:\n",
    "    print(\" Test Failed ! (Import Error) \")\n",
    "else:\n",
    "    print(\"Test Passed ! (Import Successfully) \")"
   ]
  },
  {
   "cell_type": "code",
   "execution_count": null,
   "id": "2bef92c3",
   "metadata": {},
   "outputs": [],
   "source": []
  }
 ],
 "metadata": {
  "kernelspec": {
   "display_name": "Python 3 (ipykernel)",
   "language": "python",
   "name": "python3"
  },
  "language_info": {
   "codemirror_mode": {
    "name": "ipython",
    "version": 3
   },
   "file_extension": ".py",
   "mimetype": "text/x-python",
   "name": "python",
   "nbconvert_exporter": "python",
   "pygments_lexer": "ipython3",
   "version": "3.7.6"
  }
 },
 "nbformat": 4,
 "nbformat_minor": 5
}
