{
 "cells": [
  {
   "cell_type": "code",
   "execution_count": null,
   "id": "4b17d3ad",
   "metadata": {},
   "outputs": [],
   "source": [
    "import cv2\n",
    "import numpy as np\n",
    "import face_recognition\n",
    "\n",
    "img = cv2.imread('q.jpg')\n",
    "imgrgb = cv2.cvtColor(img, cv2.COLOR_BGR2RGB)\n",
    "imgTest = cv2.imread('2.jpg')\n",
    "imgrgbTest = cv2.cvtColor(imgTest, cv2.COLOR_BGR2RGB)\n",
    "cv2.imshow(\"Image 1\",imgrgb)\n",
    "# cv2.imshow(\"testing Image\",img)\n",
    "faceloc = face_recognition.face_locations(imgrgb)\n",
    "encode = face_recognition.face_encodings(imgrgb)\n",
    "print(len(faceloc))\n",
    "print(len(encode))\n",
    "# cv2.rectangle(img, (faceloc[3], faceloc[0]), (faceloc[1], faceloc[2]), (155, 0, 255), 2)\n",
    "\n",
    "facelocTest = [face_recognition.face_locations(imgrgbTest)]\n",
    "encodeTest = [face_recognition.face_encodings(imgrgbTest)]\n",
    "\n",
    "print(len(facelocTest))\n",
    "print(len(encodeTest))\n",
    "\n",
    "# cv2.rectangle(imgTest, (facelocTest[3], facelocTest[0]), (facelocTest[1], facelocTest[2]), (155, 0, 255), 2)\n",
    "\n",
    "results = face_recognition.compare_faces([encode], encodeTest)\n",
    "faceDis = face_recognition.face_distance([encode], encodeTest)\n",
    "print(results, faceDis)\n",
    "cv2.putText(imgrgbTest, f'{results} {round(faceDis[0],2)}', (50, 50), cv2.FONT_HERSHEY_COMPLEX_SMALL, 1, (0, 0, 255), 2)\n",
    "\n",
    "cv2.imshow('Santha', imgrgb)\n",
    "cv2.imshow('Testing Rat', imgrgbTest)\n",
    "cv2.waitKeys(0)"
   ]
  },
  {
   "cell_type": "code",
   "execution_count": null,
   "id": "08a6bc0f",
   "metadata": {},
   "outputs": [],
   "source": []
  }
 ],
 "metadata": {
  "kernelspec": {
   "display_name": "Python 3 (ipykernel)",
   "language": "python",
   "name": "python3"
  },
  "language_info": {
   "codemirror_mode": {
    "name": "ipython",
    "version": 3
   },
   "file_extension": ".py",
   "mimetype": "text/x-python",
   "name": "python",
   "nbconvert_exporter": "python",
   "pygments_lexer": "ipython3",
   "version": "3.8.9"
  }
 },
 "nbformat": 4,
 "nbformat_minor": 5
}
