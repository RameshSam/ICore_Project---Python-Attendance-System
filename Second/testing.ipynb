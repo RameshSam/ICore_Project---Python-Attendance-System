{
 "cells": [
  {
   "cell_type": "code",
   "execution_count": 3,
   "id": "4b17d3ad",
   "metadata": {},
   "outputs": [
    {
     "name": "stdout",
     "output_type": "stream",
     "text": [
      "0\n",
      "0\n",
      "1\n",
      "1\n"
     ]
    },
    {
     "ename": "TypeError",
     "evalue": "unsupported operand type(s) for -: 'list' and 'list'",
     "output_type": "error",
     "traceback": [
      "\u001b[1;31m---------------------------------------------------------------------------\u001b[0m",
      "\u001b[1;31mTypeError\u001b[0m                                 Traceback (most recent call last)",
      "Cell \u001b[1;32mIn[3], line 25\u001b[0m\n\u001b[0;32m     21\u001b[0m \u001b[38;5;28mprint\u001b[39m(\u001b[38;5;28mlen\u001b[39m(encodeTest))\n\u001b[0;32m     23\u001b[0m \u001b[38;5;66;03m# cv2.rectangle(imgTest, (facelocTest[3], facelocTest[0]), (facelocTest[1], facelocTest[2]), (155, 0, 255), 2)\u001b[39;00m\n\u001b[1;32m---> 25\u001b[0m results \u001b[38;5;241m=\u001b[39m \u001b[43mface_recognition\u001b[49m\u001b[38;5;241;43m.\u001b[39;49m\u001b[43mcompare_faces\u001b[49m\u001b[43m(\u001b[49m\u001b[43m[\u001b[49m\u001b[43mencode\u001b[49m\u001b[43m]\u001b[49m\u001b[43m,\u001b[49m\u001b[43m \u001b[49m\u001b[43mencodeTest\u001b[49m\u001b[43m)\u001b[49m\n\u001b[0;32m     26\u001b[0m faceDis \u001b[38;5;241m=\u001b[39m face_recognition\u001b[38;5;241m.\u001b[39mface_distance([encode], encodeTest)\n\u001b[0;32m     27\u001b[0m \u001b[38;5;28mprint\u001b[39m(results, faceDis)\n",
      "File \u001b[1;32mc:\\python\\lib\\site-packages\\face_recognition\\api.py:226\u001b[0m, in \u001b[0;36mcompare_faces\u001b[1;34m(known_face_encodings, face_encoding_to_check, tolerance)\u001b[0m\n\u001b[0;32m    217\u001b[0m \u001b[38;5;28;01mdef\u001b[39;00m \u001b[38;5;21mcompare_faces\u001b[39m(known_face_encodings, face_encoding_to_check, tolerance\u001b[38;5;241m=\u001b[39m\u001b[38;5;241m0.6\u001b[39m):\n\u001b[0;32m    218\u001b[0m \u001b[38;5;250m    \u001b[39m\u001b[38;5;124;03m\"\"\"\u001b[39;00m\n\u001b[0;32m    219\u001b[0m \u001b[38;5;124;03m    Compare a list of face encodings against a candidate encoding to see if they match.\u001b[39;00m\n\u001b[0;32m    220\u001b[0m \n\u001b[1;32m   (...)\u001b[0m\n\u001b[0;32m    224\u001b[0m \u001b[38;5;124;03m    :return: A list of True/False values indicating which known_face_encodings match the face encoding to check\u001b[39;00m\n\u001b[0;32m    225\u001b[0m \u001b[38;5;124;03m    \"\"\"\u001b[39;00m\n\u001b[1;32m--> 226\u001b[0m     \u001b[38;5;28;01mreturn\u001b[39;00m \u001b[38;5;28mlist\u001b[39m(\u001b[43mface_distance\u001b[49m\u001b[43m(\u001b[49m\u001b[43mknown_face_encodings\u001b[49m\u001b[43m,\u001b[49m\u001b[43m \u001b[49m\u001b[43mface_encoding_to_check\u001b[49m\u001b[43m)\u001b[49m \u001b[38;5;241m<\u001b[39m\u001b[38;5;241m=\u001b[39m tolerance)\n",
      "File \u001b[1;32mc:\\python\\lib\\site-packages\\face_recognition\\api.py:75\u001b[0m, in \u001b[0;36mface_distance\u001b[1;34m(face_encodings, face_to_compare)\u001b[0m\n\u001b[0;32m     72\u001b[0m \u001b[38;5;28;01mif\u001b[39;00m \u001b[38;5;28mlen\u001b[39m(face_encodings) \u001b[38;5;241m==\u001b[39m \u001b[38;5;241m0\u001b[39m:\n\u001b[0;32m     73\u001b[0m     \u001b[38;5;28;01mreturn\u001b[39;00m np\u001b[38;5;241m.\u001b[39mempty((\u001b[38;5;241m0\u001b[39m))\n\u001b[1;32m---> 75\u001b[0m \u001b[38;5;28;01mreturn\u001b[39;00m np\u001b[38;5;241m.\u001b[39mlinalg\u001b[38;5;241m.\u001b[39mnorm(\u001b[43mface_encodings\u001b[49m\u001b[43m \u001b[49m\u001b[38;5;241;43m-\u001b[39;49m\u001b[43m \u001b[49m\u001b[43mface_to_compare\u001b[49m, axis\u001b[38;5;241m=\u001b[39m\u001b[38;5;241m1\u001b[39m)\n",
      "\u001b[1;31mTypeError\u001b[0m: unsupported operand type(s) for -: 'list' and 'list'"
     ]
    }
   ],
   "source": [
    "import cv2\n",
    "import numpy as np\n",
    "import face_recognition\n",
    "\n",
    "img = cv2.imread('q.jpg')\n",
    "imgrgb = cv2.cvtColor(img, cv2.COLOR_BGR2RGB)\n",
    "imgTest = cv2.imread('2.jpg')\n",
    "imgrgbTest = cv2.cvtColor(imgTest, cv2.COLOR_BGR2RGB)\n",
    "cv2.imshow(\"Image 1\",imgrgb)\n",
    "# cv2.imshow(\"testing Image\",img)\n",
    "faceloc = face_recognition.face_locations(imgrgb)\n",
    "encode = face_recognition.face_encodings(imgrgb)\n",
    "print(len(faceloc))\n",
    "print(len(encode))\n",
    "# cv2.rectangle(img, (faceloc[3], faceloc[0]), (faceloc[1], faceloc[2]), (155, 0, 255), 2)\n",
    "\n",
    "facelocTest = [face_recognition.face_locations(imgrgbTest)]\n",
    "encodeTest = [face_recognition.face_encodings(imgrgbTest)]\n",
    "\n",
    "print(len(facelocTest))\n",
    "print(len(encodeTest))\n",
    "\n",
    "# cv2.rectangle(imgTest, (facelocTest[3], facelocTest[0]), (facelocTest[1], facelocTest[2]), (155, 0, 255), 2)\n",
    "\n",
    "results = face_recognition.compare_faces([encode], encodeTest)\n",
    "faceDis = face_recognition.face_distance([encode], encodeTest)\n",
    "print(results, faceDis)\n",
    "cv2.putText(imgrgbTest, f'{results} {round(faceDis[0],2)}', (50, 50), cv2.FONT_HERSHEY_COMPLEX_SMALL, 1, (0, 0, 255), 2)\n",
    "\n",
    "cv2.imshow('Santha', imgrgb)\n",
    "cv2.imshow('Testing Rat', imgrgbTest)\n",
    "cv2.waitKeys(0)"
   ]
  },
  {
   "cell_type": "code",
   "execution_count": null,
   "id": "08a6bc0f",
   "metadata": {},
   "outputs": [],
   "source": []
  }
 ],
 "metadata": {
  "kernelspec": {
   "display_name": "Python 3 (ipykernel)",
   "language": "python",
   "name": "python3"
  },
  "language_info": {
   "codemirror_mode": {
    "name": "ipython",
    "version": 3
   },
   "file_extension": ".py",
   "mimetype": "text/x-python",
   "name": "python",
   "nbconvert_exporter": "python",
   "pygments_lexer": "ipython3",
   "version": "3.8.9"
  }
 },
 "nbformat": 4,
 "nbformat_minor": 5
}
